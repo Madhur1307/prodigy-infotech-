{
  "nbformat": 4,
  "nbformat_minor": 0,
  "metadata": {
    "colab": {
      "provenance": [],
      "authorship_tag": "ABX9TyMkpWuMLpEsw4RVNr8fVPaZ",
      "include_colab_link": true
    },
    "kernelspec": {
      "name": "python3",
      "display_name": "Python 3"
    },
    "language_info": {
      "name": "python"
    }
  },
  "cells": [
    {
      "cell_type": "markdown",
      "metadata": {
        "id": "view-in-github",
        "colab_type": "text"
      },
      "source": [
        "<a href=\"https://colab.research.google.com/github/Madhur1307/prodigy-infotech-/blob/main/packet%20analyzer.ipynb\" target=\"_parent\"><img src=\"https://colab.research.google.com/assets/colab-badge.svg\" alt=\"Open In Colab\"/></a>"
      ]
    },
    {
      "cell_type": "code",
      "execution_count": null,
      "metadata": {
        "colab": {
          "base_uri": "https://localhost:8080/"
        },
        "id": "ED3qVUUY-Q8g",
        "outputId": "c2d0a6ca-ac59-48bd-f920-705aa4e2dbb7"
      },
      "outputs": [
        {
          "output_type": "stream",
          "name": "stdout",
          "text": [
            "Collecting scapy\n",
            "  Downloading scapy-2.5.0.tar.gz (1.3 MB)\n",
            "\u001b[?25l     \u001b[90m━━━━━━━━━━━━━━━━━━━━━━━━━━━━━━━━━━━━━━━━\u001b[0m \u001b[32m0.0/1.3 MB\u001b[0m \u001b[31m?\u001b[0m eta \u001b[36m-:--:--\u001b[0m\r\u001b[2K     \u001b[91m━━━━━━━━━━━━━━━━━━━━━━━━━━━━━━━━━━━━━━━\u001b[0m\u001b[91m╸\u001b[0m \u001b[32m1.3/1.3 MB\u001b[0m \u001b[31m64.5 MB/s\u001b[0m eta \u001b[36m0:00:01\u001b[0m\r\u001b[2K     \u001b[90m━━━━━━━━━━━━━━━━━━━━━━━━━━━━━━━━━━━━━━━━\u001b[0m \u001b[32m1.3/1.3 MB\u001b[0m \u001b[31m31.5 MB/s\u001b[0m eta \u001b[36m0:00:00\u001b[0m\n",
            "\u001b[?25h  Preparing metadata (setup.py) ... \u001b[?25l\u001b[?25hdone\n",
            "Building wheels for collected packages: scapy\n",
            "  Building wheel for scapy (setup.py) ... \u001b[?25l\u001b[?25hdone\n",
            "  Created wheel for scapy: filename=scapy-2.5.0-py2.py3-none-any.whl size=1444326 sha256=ea73836a13f8bce080d33c36ef67ec81312385841e98b9a7112763b62d2f30ca\n",
            "  Stored in directory: /root/.cache/pip/wheels/82/b7/03/8344d8cf6695624746311bc0d389e9d05535ca83c35f90241d\n",
            "Successfully built scapy\n",
            "Installing collected packages: scapy\n",
            "Successfully installed scapy-2.5.0\n"
          ]
        }
      ],
      "source": [
        "pip install scapy\n"
      ]
    },
    {
      "cell_type": "code",
      "source": [
        "from scapy.all import sniff, IP, TCP, UDP"
      ],
      "metadata": {
        "id": "6BQ-alEP-bso"
      },
      "execution_count": null,
      "outputs": []
    },
    {
      "cell_type": "code",
      "source": [
        "\n",
        "def packet_callback(packet):\n",
        "    if IP in packet:\n",
        "        ip_layer = packet[IP]\n",
        "        print(f\"IP Packet: {ip_layer.src} -> {ip_layer.dst}\")\n",
        "        if TCP in packet:\n",
        "            tcp_layer = packet[TCP]\n",
        "            print(f\"TCP Packet: {tcp_layer.sport} -> {tcp_layer.dport}\")\n",
        "            print(f\"Payload: {bytes(tcp_layer.payload)}\")\n",
        "        elif UDP in packet:\n",
        "            udp_layer = packet[UDP]\n",
        "            print(f\"UDP Packet: {udp_layer.sport} -> {udp_layer.dport}\")\n",
        "            print(f\"Payload: {bytes(udp_layer.payload)}\")\n",
        "        else:\n",
        "            print(\"Other Protocol\")"
      ],
      "metadata": {
        "id": "iY0lPlha-b9z"
      },
      "execution_count": null,
      "outputs": []
    },
    {
      "cell_type": "code",
      "source": [
        "sniff(prn=packet_callback, count=10)"
      ],
      "metadata": {
        "id": "kUtWm45x_Blf",
        "outputId": "c3e725c5-60d4-4afc-e323-32d5e259c352",
        "colab": {
          "base_uri": "https://localhost:8080/"
        }
      },
      "execution_count": null,
      "outputs": [
        {
          "output_type": "stream",
          "name": "stdout",
          "text": [
            "IP Packet: 172.28.0.1 -> 172.28.0.12\n",
            "TCP Packet: 34678 -> 8080\n",
            "Payload: b'GET /socket.io/?EIO=3&sid=bZnffq3y8ISkL6Z1AAAA&t=P49_43L&transport=polling HTTP/1.1\\r\\nHost: colab.research.google.com\\r\\nUser-Agent: Mozilla/5.0 (Windows NT 10.0; Win64; x64) AppleWebKit/537.36 (KHTML, like Gecko) Chrome/127.0.0.0 Safari/537.36,gzip(gfe)\\r\\nAccept: */*\\r\\nAccept-Encoding: gzip, deflate, br, zstd,gzip(gfe)\\r\\nAccept-Language: en-US,en;q=0.9,mr;q=0.8,hi;q=0.7,nl;q=0.6,de;q=0.5\\r\\nPriority: u=1, i\\r\\nReferer: https://colab.research.google.com/\\r\\nSec-Ch-Ua: \"Not)A;Brand\";v=\"99\", \"Google Chrome\";v=\"127\", \"Chromium\";v=\"127\"\\r\\nSec-Ch-Ua-Arch: \"x86\"\\r\\nSec-Ch-Ua-Bitness: \"64\"\\r\\nSec-Ch-Ua-Full-Version-List: \"Not)A;Brand\";v=\"99.0.0.0\", \"Google Chrome\";v=\"127.0.6533.88\", \"Chromium\";v=\"127.0.6533.88\"\\r\\nSec-Ch-Ua-Mobile: ?0\\r\\nSec-Ch-Ua-Model: \"\"\\r\\nSec-Ch-Ua-Platform: \"Windows\"\\r\\nSec-Ch-Ua-Platform-Version: \"15.0.0\"\\r\\nSec-Ch-Ua-Wow64: ?0\\r\\nSec-Fetch-Dest: empty\\r\\nSec-Fetch-Mode: cors\\r\\nSec-Fetch-Site: same-origin\\r\\n\\r\\n'\n",
            "IP Packet: 172.28.0.12 -> 172.28.0.1\n",
            "TCP Packet: 8080 -> 34678\n",
            "Payload: b''\n",
            "IP Packet: 172.28.0.12 -> 172.28.0.1\n",
            "TCP Packet: 8080 -> 34678\n",
            "Payload: b'HTTP/1.1 200 OK\\r\\nContent-Type: text/plain; charset=UTF-8\\r\\nContent-Encoding: gzip\\r\\nContent-Length: 1218\\r\\nAccess-Control-Allow-Origin: *\\r\\nSet-Cookie: io=bZnffq3y8ISkL6Z1AAAA; Path=/; HttpOnly\\r\\nDate: Wed, 31 Jul 2024 18:07:49 GMT\\r\\nConnection: keep-alive\\r\\n\\r\\n\\x1f\\x8b\\x08\\x00\\x00\\x00\\x00\\x00\\x00\\x03\\xd5Y\\xd1n\\xa46\\x14\\xfd\\x95\\xd1<\\xb5R\\x086\\x06\\x03#\\xedS\\xa5\\xaa\\x95Z\\xa9j\\xf7iC\\x84\\x8c13h\\x19\\x9b\\xc5&\\xed4\\xca\\xbf\\xd7\\xd8L\\xa2$&\\x9bl<\\x1d\\xed\\xc3\\x0c\\xd8\\xe0\\xeb{\\xee\\xb1\\xaf\\x8fM\\x9a\\xc6\\x9b8\\n%\\x93\\xb2\\x15\\xfc\\xe2j]\\x13E\\xd6\\x17\\xb7\\xf6\\xbaY\\xdf\\x16\\xeb\\x1d#5\\x1b\\x8a\\xf5f\\xa5\\x0b{\\xb9-\\xdbz*\\x14k\\x8a\\x12\\x80+\\x88\\x02\\x00\\x1bP\\xa7\\x15@\\x18R\\nI\\x85q\\xd2TU\\x92\\x97iT\\xac/V\\xb6\\x95:\\xf4\\xcc\\xb6c\\xff0:*V\\xb6\\xbc\\x1f\\x95}a\\x94l\\xe0d?\\xbf\\xf0P\\x9a\\x9e\\xcd\\xbe\\xbd\\xb2O\\xdbF{?\\xdb\\x8a@\\x14\\x07 \\r\\x10\\xfc\\x08\\xb3\\rH7q~\\t\\xb38E\\xe0\\x93}\\xf5\\x86\\r\\x0f\\xe6\\x93KT\\xac\\xef\\x8e.\\x9f\\x00hO\\x06\\xc6U\\xb9\\x18S\\x84\\xf3\\x8a\\xc59\\r@\\xd3\\x80 \\x8e\\xeb&`y\\x1a\\x07\\t\\x8eA\\x13Q\\xdcd9~c\\xc8\\xe2\\x14`\\x88\\xf3&h\\xd24\\x0bb\\x0c\\xa3\\x80T\\xb4\\tH\\x84qF\\xa3\\x98V\\xf5\\x8b\\xde\\x0f\\xec\\xcb\\xc8\\xa4rF\\x0b\\xbc2\\xdc\\x10D\\x9f\\x8e\\x81e\\x8aL\\x83\\xcb\\x8075Tp\\xa5\\x832G\\x83\\x8az\\xb6%y\\xdb4?\\xf4\\x03\\xff\\xd0\\x13\\xfa\\x99\\xa9\\x92\\x92\\xae\\xab\\xf4\\xed\\xc5\\x8a\\x8a\\x91\\xab\\x0f\\x10\\xfc\\xb8ZY\\x0f\\xac\\xb3\\xda\\xb3\\xd2<\\x9a\\x0c$\\xc6x56\\x8d\\xf6y\\xaa\\xb8\\xba6\\xbd\\xed\\x08\\xe7\\xac\\xb3]\\xb4\\xa2\\x1f+\\xed\\xd8\\xfa\\xee\\x1a\\xe7\\x19\\x9a\\xa6B\\xcd\\xaaq\\xbbe\\x83s.\\xcc\\x8e\\x17\\xeb\\x9f\\xac\\xcf\\xc1o\\x8co\\xd5n\\xb3\\x8a\\xf3\\x1c\\x14\\xc5P\\x14\\xdc\\xfe\\xdf\\x16\\x85\\xee[\\xd4\\x87\\xe9\\xba1\\xa5f\\xd0\\xfcHS\\xbe2\\x15\\x9a\\xf3\\xa9\\x80\\xc1\\xc5t5\\xecM\\xe5\\xe9O\\xb2\\x8eQ5\\xdd\\x99gR\\x8c\\x03e\\x0f\\xa6z\\xa2v\\xf7\\xef\\x86\\xa3\\x1c\\xc2N\\xe8\\xe0\\x84][\\x85\\xfdA\\xed\\x04G\\x97\\x10\\x84u+U0\\xc5\\x8el\\x99\\x0c%%\\xfd!\\x94c\\xaf\\xc3!\\xa6x^\\xf6\\xc6\\xbb;\\xd3E\\xd7r\\xdbA\\x84cSAE7\\xee\\xb9\\xa9\\x82\\xa6\\xa2\\x1f\\x98\\xd4\\x90\\xc9\\x14\\xe5_Z\\xae\\x1e\\x9c\\x1d+\\xd51k\\xea\\x110\\xf8\\x1cX9\\x8c\\xfc$\\xb0\\x18\\xaf\\x07Fo\\xdc\\x98`\\x04sO\\xa0\\x92\\xd4\\xc1\\xd64P\\xcf\\x80\\nA\\xe8\\x8b\\xaa\\xe89*\\xfd+F\\x00\\x10\\xa5\\xac\\xebVS\\xaf\\x9b\\x15<V\\xb2\\xd7\\xc1\\xbd\\xb7\\xd1Z\\xa4\\x81I\\x85A\\x12d)\\xa1\\x19\\xa8\\x08&I\\xb4d\\xf3O\\xa6g.\\xe3\\xb3q\\xfc\\x14\\xfd3\\xe8\\x8f!\\xc1\\xf89$=\\xf8J\\x93_\\xbcr\\xf5\\xeb\\x1f\\xe6IH\\xc5\\xc0B\\x1dm6\\x10\\xaa\\xda\\x1b&w:pn\\xeaP\\x92 O\\xd4\\xc1\\xc4\\x8d\\x93HUr\\x8dU\\x9e\\x1f\\xac^m}\\x81\\xc5\\x0b\\xa4\\xea\\xce5\\xe2\\x03\\xa7\\xe7G\\x1b\\xcd)\\xc2\\x03ZG\\xae){\\xc9\\xc6Z\\x94\\x13\\xd6)\\x99r-#N\\x07\\xd9\\x84T\\xab\\x95nZ4\\xdcx\\xd3\\xcc\\x17\\xda\\xcc\\xbd\\\\\\x18r\\xcfO+@\\xc0\\x17\\xd0|y\\x10\\x9f\\x1dg\\x94\\xa7\\x89\\'\\x9c\\x91C\\xd8\\x9c\\x06\\xa7^]>k\\xfd\\xcb\\xba\\xf0\\xdf\\xfd\\x97\\x17\\xc0%\\xc8\\x97\\x0c\\x88\\x1c\\xdaF\\xcf\\xcaY3\\x9f\\n]\\xdb\\xdb\\x9b\\xa5!\\x1a\\xf9\\x92\\x03\\xe89\\xba\\xbf\\x07\\xd2\\xf7\\xbe\\x93\\x8d\\x12z\\xd7R\\x8bp\\xcb\\xf8\\xc2pD\\xbe\\xd4h\\xe4\\xc0\\xf4t\\x8bs\"\\xda\\xec\\xa5\"\\x92\\x9dzXb\\x87\\xe8\\xf9\\xee\\x89s\\x08\\x1c\\xed\\x8cv\\x9b\\xeeJ3\\xd9\\xcf\\xc5[\\x84\\xbd\\xe9o\\x07\\xc6\\xef\\x9e7\\x87z\\xe9\\x07A\\x99\\x94\\xa5\\xe0\\'\\xcb\\x91_#\\r\\xf9#\\xcd-F\\xffg\\xc2\\xd2\\x0c\\xfb\"\\xcc\\xa1KZ\\xff\\x02\\xf3\\xab\\x88\\xb2\\xc8\\x97\\x02\\xc1.\\x01m$\\xc8|\\x92t\\x1ad\\xad\\xe8\\x84\\xe8\\x17\\xe8B\\xbe\\xf42rH\\x10\\xfd\\xb3\\xfb\\xed\\x8e\\xec\\xab\\x9a\\x1c\\x8b\\x9e\\'\\xdbkp\\xe2\\xcc\\x17\\x89\\xc8q6\\xf1\\xd6c\\xa4\\xc7h\\xcc\\xae\\xa6\\x15!\\xbb\\xd1\\x8e,lk2_j\\x1f9t\\x87\\x19\\x83b>\\xd9x\\x1f\\x86)\\xd1\\x95/\\x01\\x819\\xf0\\xa5.\\xd0\\xc2\\x91J\\xa3\\xb7\\x177oK\\x13\\xdf\\x08\\x06\\x03_\\'\\t\\xc8\\xb1\\xe2JE\\x06\\xcf\"\\xf08U\\xfa\\x8e(\\x1d\\xa6\\xfd\\x11\\xea\\x12W\\xde&\\x8dcm:\\x01\\xbc\\xa7\\xcb\\xaeV,\\x0b\\xc4y;\\x80E\\x8e\\x9c\\xde\\x91\\x91k1\\xd8r\\r\\xf1\\x8d\\xb3\\xea\\x15\\x14\\x0e\\xa4\\xd5\\x9e(\\xa9\\xb7\\xd1\\xbci\\xb7\\xa1\\x06\\xd9\\xb5\\xd4x\\xec\\x06\\x9b\\xe7\\xbe6b\\xc8q&\\xa2\\x7f6\\xc7\\xefE=\\x9aF\\xa7\\xc8\\xf1\\xdawR\\x95\\x96\\xd5\\xd2\\xc6\\x97\\r\\x0b\\x8a\\xca\\xd7y\\x17r\\x08\\x90\\xf2[\\xcel\\x1f\\x03\\xd3\\x16\\xfa\\xc3B\\x96\\xf7\\xa5\\x9db\\xc7Y\\x87q\\xdd\\x92T\\x12Y\\xeeI\\xfb\\x8e5\\xeb\\x05\\x100\\x7f\\x07\\x8akk\\xcc$\\xdd\\xfb\\xe7\\x86\\xfc\\xdf\\xb5\\xbf\\x1fw\\x03#\\xf5_J\\x8f\\x8a\\x9f\\xef?_\\x99\\x06\\xe6;\\xe1\\xf1\\xfd\\xfb\\xd6w\\xf6[\\xda\\x7f\\x7f,\\x8ePV\\x1e\\x00\\x00'\n",
            "IP Packet: 172.28.0.1 -> 172.28.0.12\n",
            "TCP Packet: 34678 -> 8080\n",
            "Payload: b''\n",
            "IP Packet: 172.28.0.1 -> 172.28.0.12\n",
            "TCP Packet: 34678 -> 8080\n",
            "Payload: b'POST /socket.io/?EIO=3&sid=bZnffq3y8ISkL6Z1AAAA&t=P49_4CT&transport=polling HTTP/1.1\\r\\nHost: colab.research.google.com\\r\\nUser-Agent: Mozilla/5.0 (Windows NT 10.0; Win64; x64) AppleWebKit/537.36 (KHTML, like Gecko) Chrome/127.0.0.0 Safari/537.36,gzip(gfe)\\r\\nContent-Length: 55\\r\\nAccept: */*\\r\\nAccept-Encoding: gzip, deflate, br, zstd,gzip(gfe)\\r\\nAccept-Language: en-US,en;q=0.9,mr;q=0.8,hi;q=0.7,nl;q=0.6,de;q=0.5\\r\\nContent-Type: text/plain;charset=UTF-8\\r\\nOrigin: https://colab.research.google.com\\r\\nPriority: u=1, i\\r\\nReferer: https://colab.research.google.com/\\r\\nSec-Ch-Ua: \"Not)A;Brand\";v=\"99\", \"Google Chrome\";v=\"127\", \"Chromium\";v=\"127\"\\r\\nSec-Ch-Ua-Arch: \"x86\"\\r\\nSec-Ch-Ua-Bitness: \"64\"\\r\\nSec-Ch-Ua-Full-Version-List: \"Not)A;Brand\";v=\"99.0.0.0\", \"Google Chrome\";v=\"127.0.6533.88\", \"Chromium\";v=\"127.0.6533.88\"\\r\\nSec-Ch-Ua-Mobile: ?0\\r\\nSec-Ch-Ua-Model: \"\"\\r\\nSec-Ch-Ua-Platform: \"Windows\"\\r\\nSec-Ch-Ua-Platform-Version: \"15.0.0\"\\r\\nSec-Ch-Ua-Wow64: ?0\\r\\nSec-Fetch-Dest: empty\\r\\nSec-Fetch-Mode: cors\\r\\nSec-Fetch-Site: same-origin\\r\\n\\r\\n'\n",
            "IP Packet: 172.28.0.1 -> 172.28.0.12\n",
            "TCP Packet: 34678 -> 8080\n",
            "Payload: b'52:451-/debugger,[\"data\",{\"_placeholder\":true,\"num\":0}]'\n",
            "IP Packet: 172.28.0.12 -> 172.28.0.1\n",
            "TCP Packet: 8080 -> 34678\n",
            "Payload: b''\n",
            "IP Packet: 172.28.0.12 -> 172.28.0.1\n",
            "TCP Packet: 8080 -> 34678\n",
            "Payload: b'HTTP/1.1 200 OK\\r\\nContent-Type: text/html\\r\\nContent-Length: 2\\r\\nAccess-Control-Allow-Credentials: true\\r\\nAccess-Control-Allow-Origin: https://colab.research.google.com\\r\\nSet-Cookie: io=bZnffq3y8ISkL6Z1AAAA; Path=/; HttpOnly\\r\\nDate: Wed, 31 Jul 2024 18:07:50 GMT\\r\\nConnection: keep-alive\\r\\n\\r\\nok'\n",
            "IP Packet: 172.28.0.1 -> 172.28.0.12\n",
            "TCP Packet: 34678 -> 8080\n",
            "Payload: b''\n",
            "IP Packet: 172.28.0.1 -> 172.28.0.12\n",
            "TCP Packet: 34678 -> 8080\n",
            "Payload: b'GET /socket.io/?EIO=3&sid=bZnffq3y8ISkL6Z1AAAA&t=P49_4CU&transport=polling HTTP/1.1\\r\\nHost: colab.research.google.com\\r\\nUser-Agent: Mozilla/5.0 (Windows NT 10.0; Win64; x64) AppleWebKit/537.36 (KHTML, like Gecko) Chrome/127.0.0.0 Safari/537.36,gzip(gfe)\\r\\nAccept: */*\\r\\nAccept-Encoding: gzip, deflate, br, zstd,gzip(gfe)\\r\\nAccept-Language: en-US,en;q=0.9,mr;q=0.8,hi;q=0.7,nl;q=0.6,de;q=0.5\\r\\nPriority: u=1, i\\r\\nReferer: https://colab.research.google.com/\\r\\nSec-Ch-Ua: \"Not)A;Brand\";v=\"99\", \"Google Chrome\";v=\"127\", \"Chromium\";v=\"127\"\\r\\nSec-Ch-Ua-Arch: \"x86\"\\r\\nSec-Ch-Ua-Bitness: \"64\"\\r\\nSec-Ch-Ua-Full-Version-List: \"Not)A;Brand\";v=\"99.0.0.0\", \"Google Chrome\";v=\"127.0.6533.88\", \"Chromium\";v=\"127.0.6533.88\"\\r\\nSec-Ch-Ua-Mobile: ?0\\r\\nSec-Ch-Ua-Model: \"\"\\r\\nSec-Ch-Ua-Platform: \"Windows\"\\r\\nSec-Ch-Ua-Platform-Version: \"15.0.0\"\\r\\nSec-Ch-Ua-Wow64: ?0\\r\\nSec-Fetch-Dest: empty\\r\\nSec-Fetch-Mode: cors\\r\\nSec-Fetch-Site: same-origin\\r\\n\\r\\n'\n"
          ]
        },
        {
          "output_type": "execute_result",
          "data": {
            "text/plain": [
              "<Sniffed: TCP:10 UDP:0 ICMP:0 Other:0>"
            ]
          },
          "metadata": {},
          "execution_count": 5
        }
      ]
    }
  ]
}